{
 "cells": [
  {
   "cell_type": "code",
   "execution_count": 1,
   "metadata": {},
   "outputs": [],
   "source": [
    "# Class Timer , methods start_timer, end_timer, attributes: start_time, time_ellapsed"
   ]
  },
  {
   "cell_type": "code",
   "execution_count": 3,
   "metadata": {},
   "outputs": [],
   "source": [
    "import datetime"
   ]
  },
  {
   "cell_type": "code",
   "execution_count": 12,
   "metadata": {},
   "outputs": [],
   "source": [
    "class Timer():\n",
    "    def __init__(self, start_time = None, time_ellapsed = None):\n",
    "        self.start_time = start_time\n",
    "        self.time_ellapsed = time_ellapsed\n",
    "        \n",
    "    def start_timer(self):\n",
    "        self.start_time = datetime.datetime.now() # getting the start timepoint\n",
    "        print('Start time: ',  self.start_time)\n",
    "        return self.start_time\n",
    "    \n",
    "    def end_timer(self):\n",
    "        self.time_ellapsed =  datetime.datetime.now() # getting the end timepoint\n",
    "        print('End time: ',  self.time_ellapsed)\n",
    "        return self.time_ellapsed\n",
    "    \n",
    "#     def formatting_seconds():\n",
    "#          print(self.start_time - self.time_ellapsed)\n",
    "    \n",
    "        "
   ]
  },
  {
   "cell_type": "code",
   "execution_count": 13,
   "metadata": {},
   "outputs": [
    {
     "name": "stdout",
     "output_type": "stream",
     "text": [
      "Start time:  2020-08-01 13:31:24.117526\n"
     ]
    },
    {
     "data": {
      "text/plain": [
       "datetime.datetime(2020, 8, 1, 13, 31, 24, 117526)"
      ]
     },
     "execution_count": 13,
     "metadata": {},
     "output_type": "execute_result"
    }
   ],
   "source": [
    "time = Timer()\n",
    "time.start_timer()"
   ]
  },
  {
   "cell_type": "code",
   "execution_count": null,
   "metadata": {},
   "outputs": [],
   "source": []
  }
 ],
 "metadata": {
  "kernelspec": {
   "display_name": "Python 3",
   "language": "python",
   "name": "python3"
  },
  "language_info": {
   "codemirror_mode": {
    "name": "ipython",
    "version": 3
   },
   "file_extension": ".py",
   "mimetype": "text/x-python",
   "name": "python",
   "nbconvert_exporter": "python",
   "pygments_lexer": "ipython3",
   "version": "3.7.4"
  }
 },
 "nbformat": 4,
 "nbformat_minor": 4
}
